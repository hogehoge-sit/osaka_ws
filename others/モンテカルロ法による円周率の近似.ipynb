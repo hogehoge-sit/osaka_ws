{
 "cells": [
  {
   "cell_type": "markdown",
   "metadata": {},
   "source": [
    "# モンテカルロ法の実装<br>\n",
    "乱数を用いて円周率πの近似値を出してみる<br>\n",
    "正方形に内接する円の中にある乱数によって生成した点と正方形内の点の比から、円周率πを求める。<br>"
   ]
  },
  {
   "cell_type": "markdown",
   "metadata": {},
   "source": [
    "$$式は以下の通りになる。$$\n",
    "$$πR^2:4R^2 = n:m$$\n",
    "$$π = 4*n/m$$\n",
    "但しn,mは正方形内に内接する円と正方形内に含まれる点の個数とする。\n",
    "今回は$1/4$の円で考えてみた（負の数の乱数が出せなかったため）"
   ]
  },
  {
   "cell_type": "code",
   "execution_count": 1,
   "metadata": {},
   "outputs": [],
   "source": [
    "#coding: utf-8\n",
    "import numpy as np\n",
    "import matplotlib.pyplot as plt\n",
    "import matplotlib.patches as patches\n",
    "import time\n",
    "%matplotlib inline"
   ]
  },
  {
   "cell_type": "code",
   "execution_count": 2,
   "metadata": {},
   "outputs": [],
   "source": [
    "def randomplot(n):\n",
    "    start = time.time()\n",
    "    randomplot_list = []\n",
    "    for i in n:\n",
    "        x_list = np.array(np.random.random(i))\n",
    "        y_list = np.array(np.random.random(i))\n",
    "        r_list = (x_list**2 + y_list**2) ** 0.5\n",
    "        cir_point = 0\n",
    "        for i in range(i):\n",
    "            if r_list[i] <= 1:\n",
    "                cir_point += 1\n",
    "        square_point = i\n",
    "        pi = 4*cir_point / square_point\n",
    "    \n",
    "        print(\"近似した円周率(点が{}個の時): \".format(i), pi)\n",
    "        print(\"かかった時間: {}sec\".format(time.time() - start))\n",
    "        randomplot_list.append(time.time() - start)\n",
    "    return randomplot_list"
   ]
  },
  {
   "cell_type": "markdown",
   "metadata": {},
   "source": [
    "# $$結論$$\n",
    "$$10^8くらいのオーダーだと1分ほどかかる。まず間違いなくfor文で回してるからだと思う。$$"
   ]
  },
  {
   "cell_type": "markdown",
   "metadata": {},
   "source": [
    "# 修正-revision-"
   ]
  },
  {
   "cell_type": "code",
   "execution_count": 3,
   "metadata": {},
   "outputs": [],
   "source": [
    "def get_pi(n):\n",
    "    #n = int(input())\n",
    "    start = time.time()\n",
    "    get_pi_list = []\n",
    "    for i in n:\n",
    "        x_list = np.array(np.random.random(i))\n",
    "        y_list = np.array(np.random.random(i))\n",
    "        r_list = (x_list**2 + y_list**2) ** 0.5\n",
    "        #cir_point = 0\n",
    "        cir_point = r_list[r_list <= 1]\n",
    "        square_point = i\n",
    "        pi = 4 * len(cir_point) / square_point\n",
    "        \n",
    "        #print(\"円内の点の数: \", cir_point)\n",
    "        #print(\"円外の点の数: \", square_point)\n",
    "        print(\"近似した円周率(点が{}個の時): \".format(i), pi)\n",
    "        print(\"かかった時間: {}sec\".format(time.time() - start))\n",
    "        get_pi_list.append(time.time() - start)\n",
    "    return get_pi_list"
   ]
  },
  {
   "cell_type": "code",
   "execution_count": 5,
   "metadata": {},
   "outputs": [
    {
     "name": "stdout",
     "output_type": "stream",
     "text": [
      "--------get_pi--------\n",
      "近似した円周率(点が100個の時):  2.84\n",
      "かかった時間: 0.0009970664978027344sec\n",
      "近似した円周率(点が1000個の時):  3.116\n",
      "かかった時間: 0.0009970664978027344sec\n",
      "近似した円周率(点が10000個の時):  3.1388\n",
      "かかった時間: 0.003008127212524414sec\n",
      "近似した円周率(点が100000個の時):  3.14944\n",
      "かかった時間: 0.010970830917358398sec\n",
      "近似した円周率(点が1000000個の時):  3.143144\n",
      "かかった時間: 0.07779288291931152sec\n",
      "近似した円周率(点が10000000個の時):  3.1412012\n",
      "かかった時間: 0.6761910915374756sec\n",
      "近似した円周率(点が100000000個の時):  3.14149652\n",
      "かかった時間: 7.585711240768433sec\n",
      "\n",
      "--------randomplot--------\n",
      "近似した円周率(点が99個の時):  3.1515151515151514\n",
      "かかった時間: 0.0sec\n",
      "近似した円周率(点が999個の時):  3.171171171171171\n",
      "かかった時間: 0.0009965896606445312sec\n",
      "近似した円周率(点が9999個の時):  3.1127112711271128\n",
      "かかった時間: 0.008975505828857422sec\n",
      "近似した円周率(点が99999個の時):  3.137071370713707\n",
      "かかった時間: 0.0528564453125sec\n",
      "近似した円周率(点が999999個の時):  3.1435191435191436\n",
      "かかった時間: 0.5076403617858887sec\n",
      "近似した円周率(点が9999999個の時):  3.1414511141451116\n",
      "かかった時間: 4.350364923477173sec\n",
      "近似した円周率(点が99999999個の時):  3.141436911414369\n",
      "かかった時間: 41.40925717353821sec\n"
     ]
    }
   ],
   "source": [
    "n = np.array([100, 1000, 10000, 100000, 1000000, 10000000, 100000000])\n",
    "print(\"--------get_pi--------\")\n",
    "get_pi_list = get_pi(n)\n",
    "print()\n",
    "print(\"--------randomplot--------\")\n",
    "randomplot_list = randomplot(n)"
   ]
  },
  {
   "cell_type": "code",
   "execution_count": 6,
   "metadata": {},
   "outputs": [
    {
     "name": "stdout",
     "output_type": "stream",
     "text": [
      "[0.0009970664978027344, 0.001996755599975586, 0.003008127212524414, 0.010970830917358398, 0.07779288291931152, 0.6761910915374756, 7.585711240768433]\n",
      "[0.0, 0.0009965896606445312, 0.008975505828857422, 0.0528564453125, 0.5076403617858887, 4.350364923477173, 41.40925717353821]\n"
     ]
    }
   ],
   "source": [
    "print(get_pi_list)\n",
    "print(randomplot_list)"
   ]
  },
  {
   "cell_type": "code",
   "execution_count": 7,
   "metadata": {},
   "outputs": [
    {
     "data": {
      "image/png": "[encoded data removed]",
      "text/plain": [
       "<matplotlib.figure.Figure at 0x18ac25f5860>"
      ]
     },
     "metadata": {},
     "output_type": "display_data"
    }
   ],
   "source": [
    "plt.figure(figsize=(6,6))\n",
    "plt.plot(np.log10(n), np.array(get_pi_list), label=\"get_pi\", marker=\"*\")\n",
    "plt.plot(np.log10(n), np.array(randomplot_list), label=\"randomplot\", marker=\"o\")\n",
    "plt.xlabel(\"points number($log_{10}n$)\")\n",
    "plt.ylabel(\"exe time[s]\")\n",
    "plt.legend(loc=\"best\")\n",
    "plt.grid(True)\n",
    "plt.savefig(\"compare code.png\", dpi=400)"
   ]
  },
  {
   "cell_type": "code",
   "execution_count": 8,
   "metadata": {},
   "outputs": [
    {
     "data": {
      "image/png": "[encoded data removed]",
      "text/plain": [
       "<matplotlib.figure.Figure at 0x18a8011b5c0>"
      ]
     },
     "metadata": {},
     "output_type": "display_data"
    }
   ],
   "source": [
    "sa = np.array(randomplot_list) - np.array(get_pi_list)\n",
    "plt.figure(figsize=(8, 6))\n",
    "plt.plot(np.log10(n), sa, marker=\"^\", markersize=10, ls=\":\", lw=4)\n",
    "plt.grid(True)"
   ]
  },
  {
   "cell_type": "code",
   "execution_count": null,
   "metadata": {},
   "outputs": [],
   "source": []
  }
 ],
 "metadata": {
  "kernelspec": {
   "display_name": "Python 3",
   "language": "python",
   "name": "python3"
  },
  "language_info": {
   "codemirror_mode": {
    "name": "ipython",
    "version": 3
   },
   "file_extension": ".py",
   "mimetype": "text/x-python",
   "name": "python",
   "nbconvert_exporter": "python",
   "pygments_lexer": "ipython3",
   "version": "3.6.4"
  }
 },
 "nbformat": 4,
 "nbformat_minor": 2
}
